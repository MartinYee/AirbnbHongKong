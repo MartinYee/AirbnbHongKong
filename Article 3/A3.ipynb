{
 "cells": [
  {
   "cell_type": "code",
   "execution_count": 4,
   "metadata": {},
   "outputs": [],
   "source": [
    "# import the libraries need to be used\n",
    "import pandas as pd\n",
    "import numpy as np\n",
    "import matplotlib\n",
    "import matplotlib.pyplot as plt\n",
    "import seaborn as sns\n",
    "import geopandas as gpd\n",
    "%matplotlib inline"
   ]
  },
  {
   "cell_type": "code",
   "execution_count": 6,
   "metadata": {},
   "outputs": [
    {
     "data": {
      "text/html": [
       "<div>\n",
       "<style scoped>\n",
       "    .dataframe tbody tr th:only-of-type {\n",
       "        vertical-align: middle;\n",
       "    }\n",
       "\n",
       "    .dataframe tbody tr th {\n",
       "        vertical-align: top;\n",
       "    }\n",
       "\n",
       "    .dataframe thead th {\n",
       "        text-align: right;\n",
       "    }\n",
       "</style>\n",
       "<table border=\"1\" class=\"dataframe\">\n",
       "  <thead>\n",
       "    <tr style=\"text-align: right;\">\n",
       "      <th></th>\n",
       "      <th>id</th>\n",
       "      <th>neighbourhood</th>\n",
       "      <th>latitude</th>\n",
       "      <th>longitude</th>\n",
       "      <th>room_type</th>\n",
       "      <th>cen_lat</th>\n",
       "      <th>cen_long</th>\n",
       "      <th>distance</th>\n",
       "    </tr>\n",
       "  </thead>\n",
       "  <tbody>\n",
       "    <tr>\n",
       "      <th>0</th>\n",
       "      <td>69074</td>\n",
       "      <td>CENTRAL &amp; WESTERN</td>\n",
       "      <td>22.28352</td>\n",
       "      <td>114.15018</td>\n",
       "      <td>Entire home/apt</td>\n",
       "      <td>22.28419</td>\n",
       "      <td>114.146482</td>\n",
       "      <td>0.387495</td>\n",
       "    </tr>\n",
       "    <tr>\n",
       "      <th>1</th>\n",
       "      <td>103760</td>\n",
       "      <td>CENTRAL &amp; WESTERN</td>\n",
       "      <td>22.28407</td>\n",
       "      <td>114.15570</td>\n",
       "      <td>Entire home/apt</td>\n",
       "      <td>22.28419</td>\n",
       "      <td>114.146482</td>\n",
       "      <td>0.947967</td>\n",
       "    </tr>\n",
       "  </tbody>\n",
       "</table>\n",
       "</div>"
      ],
      "text/plain": [
       "       id      neighbourhood  latitude  longitude        room_type   cen_lat  \\\n",
       "0   69074  CENTRAL & WESTERN  22.28352  114.15018  Entire home/apt  22.28419   \n",
       "1  103760  CENTRAL & WESTERN  22.28407  114.15570  Entire home/apt  22.28419   \n",
       "\n",
       "     cen_long  distance  \n",
       "0  114.146482  0.387495  \n",
       "1  114.146482  0.947967  "
      ]
     },
     "execution_count": 6,
     "metadata": {},
     "output_type": "execute_result"
    }
   ],
   "source": [
    "# Read the data which come from my previous articles\n",
    "data = pd.read_csv(\"HK/top3_dist.csv\")\n",
    "data = data.drop({'Unnamed: 0', 'host_id', 'minimum_nights','number_of_reviews', 'calculated_host_listings_count', 'availability_365', 'price'}, axis = 1)\n",
    "data.head(2)"
   ]
  },
  {
   "cell_type": "markdown",
   "metadata": {},
   "source": [
    "In this part, the data we would use is located within the YAU TSIM MONG district, so, we have to extract the wanted data:"
   ]
  },
  {
   "cell_type": "code",
   "execution_count": 7,
   "metadata": {},
   "outputs": [],
   "source": [
    "data_yau = data[data.neighbourhood == 'YAU TSIM MONG']"
   ]
  },
  {
   "cell_type": "code",
   "execution_count": 8,
   "metadata": {},
   "outputs": [],
   "source": [
    "import folium\n",
    "from IPython.display import display"
   ]
  },
  {
   "cell_type": "markdown",
   "metadata": {},
   "source": [
    "Create a data frame of main MTR stations in study area, in this case, we would use Tsuen Wan line:"
   ]
  },
  {
   "cell_type": "code",
   "execution_count": 10,
   "metadata": {},
   "outputs": [
    {
     "data": {
      "text/html": [
       "<div>\n",
       "<style scoped>\n",
       "    .dataframe tbody tr th:only-of-type {\n",
       "        vertical-align: middle;\n",
       "    }\n",
       "\n",
       "    .dataframe tbody tr th {\n",
       "        vertical-align: top;\n",
       "    }\n",
       "\n",
       "    .dataframe thead th {\n",
       "        text-align: right;\n",
       "    }\n",
       "</style>\n",
       "<table border=\"1\" class=\"dataframe\">\n",
       "  <thead>\n",
       "    <tr style=\"text-align: right;\">\n",
       "      <th></th>\n",
       "      <th>station</th>\n",
       "      <th>latitude</th>\n",
       "      <th>longitude</th>\n",
       "    </tr>\n",
       "  </thead>\n",
       "  <tbody>\n",
       "    <tr>\n",
       "      <th>0</th>\n",
       "      <td>Tsim Sha Tsui Station</td>\n",
       "      <td>22.297560</td>\n",
       "      <td>114.172209</td>\n",
       "    </tr>\n",
       "    <tr>\n",
       "      <th>1</th>\n",
       "      <td>Jordan Station</td>\n",
       "      <td>22.304859</td>\n",
       "      <td>114.171720</td>\n",
       "    </tr>\n",
       "    <tr>\n",
       "      <th>2</th>\n",
       "      <td>Yau Ma Tei Station</td>\n",
       "      <td>22.313351</td>\n",
       "      <td>114.170572</td>\n",
       "    </tr>\n",
       "    <tr>\n",
       "      <th>3</th>\n",
       "      <td>Mong Kok Station</td>\n",
       "      <td>22.319232</td>\n",
       "      <td>114.169349</td>\n",
       "    </tr>\n",
       "    <tr>\n",
       "      <th>4</th>\n",
       "      <td>Prince Edward Station</td>\n",
       "      <td>22.324611</td>\n",
       "      <td>114.168269</td>\n",
       "    </tr>\n",
       "  </tbody>\n",
       "</table>\n",
       "</div>"
      ],
      "text/plain": [
       "                 station   latitude   longitude\n",
       "0  Tsim Sha Tsui Station  22.297560  114.172209\n",
       "1         Jordan Station  22.304859  114.171720\n",
       "2     Yau Ma Tei Station  22.313351  114.170572\n",
       "3       Mong Kok Station  22.319232  114.169349\n",
       "4  Prince Edward Station  22.324611  114.168269"
      ]
     },
     "execution_count": 10,
     "metadata": {},
     "output_type": "execute_result"
    }
   ],
   "source": [
    "tsuen_wan_line = {\n",
    "\t'station':['Tsim Sha Tsui Station', 'Jordan Station', 'Yau Ma Tei Station', 'Mong Kok Station', 'Prince Edward Station'],\n",
    "        'latitude':[22.297560, 22.3048588, 22.313351, 22.319232, 22.324611],\n",
    "        'longitude':[114.172209, 114.17172, 114.170572, 114.169349, 114.168269]\n",
    "}\n",
    "tsuen_wan_line = pd.DataFrame(tsuen_wan_line)\n",
    "tsuen_wan_line"
   ]
  },
  {
   "cell_type": "code",
   "execution_count": 11,
   "metadata": {},
   "outputs": [],
   "source": [
    "# Convert the coordinates of stations to list\n",
    "coordinates  = list(zip(tsuen_wan_line.latitude, tsuen_wan_line.longitude))"
   ]
  },
  {
   "cell_type": "markdown",
   "metadata": {},
   "source": [
    "Define a map centered around Yau Tsim Mong district and plot all data of entire apartment and home, as point features:"
   ]
  },
  {
   "cell_type": "code",
   "execution_count": 12,
   "metadata": {},
   "outputs": [
    {
     "data": {
      "text/plain": [
       "24      <folium.vector_layers.CircleMarker object at 0...\n",
       "25      <folium.vector_layers.CircleMarker object at 0...\n",
       "31      <folium.vector_layers.CircleMarker object at 0...\n",
       "44      <folium.vector_layers.CircleMarker object at 0...\n",
       "47      <folium.vector_layers.CircleMarker object at 0...\n",
       "                              ...                        \n",
       "9621    <folium.vector_layers.CircleMarker object at 0...\n",
       "9629    <folium.vector_layers.CircleMarker object at 0...\n",
       "9632    <folium.vector_layers.CircleMarker object at 0...\n",
       "9633    <folium.vector_layers.CircleMarker object at 0...\n",
       "9668    <folium.vector_layers.CircleMarker object at 0...\n",
       "Length: 1661, dtype: object"
      ]
     },
     "execution_count": 12,
     "metadata": {},
     "output_type": "execute_result"
    }
   ],
   "source": [
    "hk_map_en = folium.Map(location=[22.31,114.18],zoom_start = 13)\n",
    "data_yau[data_yau.room_type == 'Entire home/apt'].apply(lambda row:folium.CircleMarker(location=[row[\"latitude\"], row[\"longitude\"]],radius=1,color='red',fill=False,popup='Entire home/apt',fill_opacity=0.6).add_to(hk_map_en), axis=1)"
   ]
  },
  {
   "cell_type": "markdown",
   "metadata": {},
   "source": [
    "And then, draw out the Tsuen Wan Line of MTR:"
   ]
  },
  {
   "cell_type": "code",
   "execution_count": 13,
   "metadata": {},
   "outputs": [],
   "source": [
    "folium.PolyLine(locations=coordinates,weight=5,color = 'purple').add_to(hk_map_en)\n",
    "# Plotting the points of the MTR stations in our study area\n",
    "for lat, lng, label in zip(tsuen_wan_line.latitude, tsuen_wan_line.longitude, tsuen_wan_line.station.astype(str)):\n",
    "    folium.CircleMarker(\n",
    "            [lat, lng],\n",
    "            radius=4,\n",
    "            color='blue',\n",
    "            fill=True,\n",
    "            popup=label,\n",
    "            fill_color='blue',\n",
    "            fill_opacity=1\n",
    "        ).add_to(hk_map_en)"
   ]
  },
  {
   "cell_type": "code",
   "execution_count": 14,
   "metadata": {},
   "outputs": [],
   "source": [
    "# Finally, save the output as html format:\n",
    "# hk_map_en.save(\"map_entire.html\")"
   ]
  },
  {
   "cell_type": "markdown",
   "metadata": {},
   "source": [
    "# Using MarkerCluster to group markers into different clusters"
   ]
  },
  {
   "cell_type": "code",
   "execution_count": 15,
   "metadata": {},
   "outputs": [],
   "source": [
    "from folium import plugins\n",
    "# create a map object of Yau Tsim Mong district\n",
    "hk_map = folium.Map(location=[22.31,114.18],zoom_start = 13)"
   ]
  },
  {
   "cell_type": "code",
   "execution_count": 16,
   "metadata": {},
   "outputs": [],
   "source": [
    "# And then, drawing out the Tsuen Wan Line of MTR, one of most important MTR route in HK\n",
    "folium.PolyLine(locations=coordinates,weight=5,color = 'purple').add_to(hk_map)\n",
    "# Plotting the points of the MTR stations in our study area.\n",
    "for lat, lng, label in zip(tsuen_wan_line.latitude, tsuen_wan_line.longitude, tsuen_wan_line.station.astype(str)):\n",
    "    folium.CircleMarker(\n",
    "            [lat, lng],\n",
    "            radius=4,\n",
    "            color='blue',\n",
    "            fill=True,\n",
    "            popup=label,\n",
    "            fill_color='blue',\n",
    "            fill_opacity=1\n",
    "        ).add_to(hk_map)"
   ]
  },
  {
   "cell_type": "markdown",
   "metadata": {},
   "source": [
    "Instatiate a mark cluster object for Aribnb listings:"
   ]
  },
  {
   "cell_type": "code",
   "execution_count": 17,
   "metadata": {},
   "outputs": [],
   "source": [
    "listings = plugins.MarkerCluster().add_to(hk_map)\n",
    "# Display the listings inside Yau Tsim Mong\n",
    "for lat, lng, label, in zip(data_yau.latitude, data_yau.longitude, data_yau.room_type):\n",
    "    if label != 0:\n",
    "        folium.Marker(\n",
    "            location=[lat,lng],\n",
    "            icon=None,\n",
    "            popup=label\n",
    "        ).add_to(listings)"
   ]
  },
  {
   "cell_type": "code",
   "execution_count": 18,
   "metadata": {},
   "outputs": [],
   "source": [
    "# Save the cluster map to local:\n",
    "# hk_map.save(\"map_cluster.html\")"
   ]
  }
 ],
 "metadata": {
  "kernelspec": {
   "display_name": "Python 3",
   "language": "python",
   "name": "python3"
  },
  "language_info": {
   "codemirror_mode": {
    "name": "ipython",
    "version": 3
   },
   "file_extension": ".py",
   "mimetype": "text/x-python",
   "name": "python",
   "nbconvert_exporter": "python",
   "pygments_lexer": "ipython3",
   "version": "3.7.3"
  }
 },
 "nbformat": 4,
 "nbformat_minor": 4
}
